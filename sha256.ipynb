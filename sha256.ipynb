{
 "cells": [
  {
   "cell_type": "code",
   "execution_count": 10,
   "id": "18a0db00",
   "metadata": {},
   "outputs": [
    {
     "data": {
      "text/plain": [
       "'\\nReading a CSV with name and sha256(passcode) entries.\\n\\nTrying all possible 4-digit numbers (from 0000 to 9999).\\n\\nHashing each one using your custom SHA-256 implementation.\\n\\nComparing each hash to the ones in your CSV.\\n\\nIf matched, saving {name: passcode} into a dictionary.\\n'"
      ]
     },
     "execution_count": 10,
     "metadata": {},
     "output_type": "execute_result"
    }
   ],
   "source": [
    "\"\"\"\n",
    "Reading a CSV with name and sha256(passcode) entries.\n",
    "\n",
    "Trying all possible 4-digit numbers (from 0000 to 9999).\n",
    "\n",
    "Hashing each one using your custom SHA-256 implementation.\n",
    "\n",
    "Comparing each hash to the ones in your CSV.\n",
    "\n",
    "If matched, saving {name: passcode} into a dictionary.\n",
    "\"\"\""
   ]
  },
  {
   "cell_type": "code",
   "execution_count": 11,
   "id": "2ca9a5af",
   "metadata": {},
   "outputs": [],
   "source": [
    "import hashlib\n",
    "import csv"
   ]
  },
  {
   "cell_type": "code",
   "execution_count": 12,
   "id": "5ea35072",
   "metadata": {},
   "outputs": [],
   "source": [
    "def sha256_hash(string):\n",
    "    \"\"\"This function gets a string as an argument and retuens its hash (SHA256)\n",
    "\n",
    "    Args:\n",
    "        string (srt): ex: \"1234\" or \"my_password\"\n",
    "\n",
    "    Returns:\n",
    "        str: hash (SHA256).hexdigest\n",
    "    \"\"\"\n",
    "    m = hashlib.sha256(string.encode(\"utf-8\"))\n",
    "    return m.hexdigest()"
   ]
  },
  {
   "cell_type": "code",
   "execution_count": 13,
   "id": "7341701d",
   "metadata": {},
   "outputs": [
    {
     "name": "stdout",
     "output_type": "stream",
     "text": [
      "12ef84e911f067ffecf360fd7da8ca02a96a380baa8b9c711908e29c8d67a370\n"
     ]
    }
   ],
   "source": [
    "# testing the function\n",
    "res = sha256_hash(\"2673\")\n",
    "print(res)"
   ]
  },
  {
   "cell_type": "code",
   "execution_count": 14,
   "id": "20b061f1",
   "metadata": {},
   "outputs": [],
   "source": [
    "correct_passwords = dict()"
   ]
  },
  {
   "cell_type": "code",
   "execution_count": 17,
   "id": "ec09dd5b",
   "metadata": {},
   "outputs": [
    {
     "name": "stdout",
     "output_type": "stream",
     "text": [
      "jadi 9553627933b214db60798fe40d2b4f8497781d024f53d62dc1b12469b7d53784\n",
      "Password is found, Pin of jadi is = 1015\n",
      "jafar 58763bceaddcad6777063dd590cb8e5021b6bb7a11272110fef4060142ded20\n",
      "jobra 08f88745513481cad0adf1aedb225d6167ec690c2bc6d38558c8ae399ce3bdb\n",
      "peter 99b057c8e3461b97f8d6c461338cf664bc84706b9cc2812daaebf210ea1b9974\n",
      "Password is found, Pin of peter is = 5104\n",
      "sara 996d7e2bc68410d18cf83438acaf9f8c81db7f7e4dd1c1116b52a1da57beaee3\n",
      "Password is found, Pin of sara is = 5916\n",
      "sam d70ada757917455ce5a436e921854e35871e9e368050c3681c94ca9435c71c66\n",
      "Password is found, Pin of sam is = 6149\n",
      "sanjab 1076c5957d3ea9ffad332d1a3785b90bc658dab676c9ba822c8fe55a3e6c23b4\n",
      "Password is found, Pin of sanjab is = 8223\n",
      "saghi 2876370ec5a463a2b84a7512e3dae1229460b5fe6c31b83ffabf2be977f7247b\n",
      "Password is found, Pin of saghi is = 8894\n",
      "sadra 85432a9890aa5071733459b423ab2aff9085f56ddfdb26c8fae0c2a04dce84c\n"
     ]
    }
   ],
   "source": [
    "with open(\"hash_csv.csv\") as f: # reading the csv file.\n",
    "    data = csv.reader(f)\n",
    "    for line in data: # deviding the name and the hash in the csv file.\n",
    "        name = line[0].strip()\n",
    "        target = line[1].strip()\n",
    "        print(name, target) # loop through them and test if there is a match.\n",
    "        for i in range(10000):\n",
    "            temp_pass = str(i).zfill(4)\n",
    "            if sha256_hash(temp_pass) == target: # If there is a mach , save {name: passcode} into a dictionary\n",
    "                print(f\"Password is found, Pin of {name} is = {temp_pass}\")\n",
    "                correct_passwords[name] = temp_pass \n",
    "            else:\n",
    "                pass"
   ]
  },
  {
   "cell_type": "code",
   "execution_count": 18,
   "id": "5590b48f",
   "metadata": {},
   "outputs": [
    {
     "name": "stdout",
     "output_type": "stream",
     "text": [
      "{'jadi': '1015', 'peter': '5104', 'sara': '5916', 'sam': '6149', 'sanjab': '8223', 'saghi': '8894'}\n",
      "jadi 1015\n",
      "peter 5104\n",
      "sara 5916\n",
      "sam 6149\n",
      "sanjab 8223\n",
      "saghi 8894\n"
     ]
    }
   ],
   "source": [
    "print(correct_passwords)\n",
    "for k, v in correct_passwords.items():\n",
    "    print(k, v)"
   ]
  },
  {
   "cell_type": "code",
   "execution_count": null,
   "id": "20a33062",
   "metadata": {},
   "outputs": [],
   "source": []
  }
 ],
 "metadata": {
  "kernelspec": {
   "display_name": "Python 3",
   "language": "python",
   "name": "python3"
  },
  "language_info": {
   "codemirror_mode": {
    "name": "ipython",
    "version": 3
   },
   "file_extension": ".py",
   "mimetype": "text/x-python",
   "name": "python",
   "nbconvert_exporter": "python",
   "pygments_lexer": "ipython3",
   "version": "3.13.3"
  }
 },
 "nbformat": 4,
 "nbformat_minor": 5
}
